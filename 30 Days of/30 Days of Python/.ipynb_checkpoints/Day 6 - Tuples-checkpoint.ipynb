{
 "cells": [
  {
   "cell_type": "markdown",
   "metadata": {},
   "source": [
    "# Day 6:\n",
    "- - -\n",
    "## Tuples\n",
    "- - -\n",
    "A tuple is a collection of differnet data types which is orderd and unchangeable (immutalbe). Tuples are written with round brackets, (). Once a tuple is created, we cannot change its values. We cannot use add, insert, remove methods in a tuple because it is not modifiable(mutable). Unlike list, tuple has few methods. Methods related to tuples:\n",
    "\n",
    "* tuple(): to create an emtpy tuple\n",
    "* count(): to count the number of a specified item in a tuple\n",
    "* index(): to find the index of a specified item in a tuple\n",
    "* '+' operator to join two or more tuples and to create a new tuple\n",
    "\n",
    "## Creating a Tuple\n",
    "* Empty tuple: Creating an empty tuple"
   ]
  },
  {
   "cell_type": "code",
   "execution_count": null,
   "metadata": {},
   "outputs": [],
   "source": [
    "# syntax\n",
    "empty_tuple = ()\n",
    "# or using the tuple constructor\n",
    "empty_tuple2 = ()"
   ]
  },
  {
   "cell_type": "markdown",
   "metadata": {},
   "source": [
    "* Tuple with initial values"
   ]
  },
  {
   "cell_type": "code",
   "execution_count": null,
   "metadata": {},
   "outputs": [],
   "source": [
    "# syntax\n",
    "tpl = ('item1', 'item2', 'item3')\n",
    "fruits = ('banan', 'orange', 'mango', 'lemon')"
   ]
  },
  {
   "cell_type": "markdown",
   "metadata": {},
   "source": [
    "## Tuple length\n",
    "We use the *len()* method to get the length of a tuple."
   ]
  },
  {
   "cell_type": "code",
   "execution_count": null,
   "metadata": {},
   "outputs": [],
   "source": [
    "# syntax\n",
    "tp = ('item1', 'item2')\n",
    "len(tp)"
   ]
  },
  {
   "cell_type": "markdown",
   "metadata": {},
   "source": [
    "## Accessign Tuple Items\n",
    "* Positive Indexing similar to the list data type we use positive or negative indexing to access tuple items.\n",
    "('a', 'b', 'c')\n",
    "  0    1    2"
   ]
  },
  {
   "cell_type": "code",
   "execution_count": null,
   "metadata": {},
   "outputs": [],
   "source": [
    "# syntax\n",
    "tpl = ('item1')\n",
    "first_item = tpl[0]\n",
    "second_item = tpl[1]"
   ]
  },
  {
   "cell_type": "code",
   "execution_count": null,
   "metadata": {},
   "outputs": [],
   "source": [
    "fruits = ('banana', 'orange', 'mango', 'lemon')\n",
    "first_fruit = fruits[0]\n",
    "second_fruit = fruits[1]\n",
    "last_index = len(fruits) - 1\n",
    "last_fruit = fruits[last_index]"
   ]
  },
  {
   "cell_type": "markdown",
   "metadata": {},
   "source": [
    "* Negative indexing menas beginnign from the end, -1 refers to the last item, -2 refers to the second last and the negative of the list/tuple length refers   to the first item\n",
    " ('banana', 'orange', 'mango', 'lemon')\n",
    "      -4       -3        -2       -1\n"
   ]
  },
  {
   "cell_type": "code",
   "execution_count": null,
   "metadata": {},
   "outputs": [],
   "source": [
    "# Syntax\n",
    "tpl = ('item1', 'item2', 'item3', 'item4')\n",
    "first_item = tpl[-4]  # same as tpl[-len(tpl)]\n",
    "second_item = tpl[-3] # same as tpl[-len(tpl) + 1]"
   ]
  },
  {
   "cell_type": "code",
   "execution_count": null,
   "metadata": {},
   "outputs": [],
   "source": [
    "fruits = ('banana', 'orange', 'mango', 'lemon')\n",
    "first_fruit = fruits[-4]\n",
    "second_fruit = fruits[-3]\n",
    "last_fruit = fruits[-1]"
   ]
  },
  {
   "cell_type": "markdown",
   "metadata": {},
   "source": [
    "## Slicing tuples\n",
    "We can slice out a subtuple by specifying a range of indexes where to start and where to end in the tuple, the return value will be new tuple with the specified items.\n",
    "* Range of Positive Indexes"
   ]
  },
  {
   "cell_type": "code",
   "execution_count": null,
   "metadata": {},
   "outputs": [],
   "source": [
    "# Syntax\n",
    "tpl = ('item1', 'item2', 'item3', 'item4')\n",
    "all_items = tpl[0:4]\n",
    "all_items = tpl[0:]\n",
    "middle_two_elements = tpl[1:3] # doesn't include item at index 3"
   ]
  },
  {
   "cell_type": "code",
   "execution_count": null,
   "metadata": {},
   "outputs": [],
   "source": [
    "fruits = ('banana', 'orange', 'mango', 'lemon')\n",
    "all_fruits = fruits[0:4]    # all items\n",
    "all_fruits= fruits[0:]      # all items\n",
    "orange_mango = fruits[1:3]  # doesn't include item at index 3\n",
    "orange_to_the_rest = fruits[1:]"
   ]
  },
  {
   "cell_type": "markdown",
   "metadata": {},
   "source": [
    "* Range of Negative indexes"
   ]
  },
  {
   "cell_type": "code",
   "execution_count": null,
   "metadata": {},
   "outputs": [],
   "source": [
    "# Syntax\n",
    "tpl = ('item1', 'item2', 'item3','item4')\n",
    "all_items = tpl[-4:]         # all items\n",
    "middle_two_items = tpl[-3:-1]  # does not include item at index 3 (-1)"
   ]
  },
  {
   "cell_type": "code",
   "execution_count": null,
   "metadata": {},
   "outputs": [],
   "source": [
    "fruits = ('banana', 'orange', 'mango', 'lemon')\n",
    "all_fruits = fruits[-4:]    # all items\n",
    "orange_mango = fruits[-3:-1]  # doesn't include item at index 3\n",
    "orange_to_the_rest = fruits[-3:]"
   ]
  },
  {
   "cell_type": "markdown",
   "metadata": {},
   "source": [
    "## Changing Tuples to Lists\n",
    "We can change tuples to lists and lists to tuples. Tuples is immutable if we want to modify a tuple we should change it to a list."
   ]
  },
  {
   "cell_type": "code",
   "execution_count": null,
   "metadata": {},
   "outputs": [],
   "source": [
    "# Syntax\n",
    "tpl = ('item1', 'item2', 'item3','item4')\n",
    "lst = list(tpl)"
   ]
  },
  {
   "cell_type": "code",
   "execution_count": null,
   "metadata": {},
   "outputs": [],
   "source": [
    "fruits = ('banana', 'orange', 'mango', 'lemon')\n",
    "fruits = list(fruits)\n",
    "fruits[0] = 'apple'\n",
    "print(fruits)     # ['apple', 'orange', 'mango', 'lemon']\n",
    "fruits = tuple(fruits)\n",
    "print(fruits)     # ('apple', 'orange', 'mango', 'lemon')"
   ]
  },
  {
   "cell_type": "markdown",
   "metadata": {},
   "source": [
    "## Checking an item in a tuple\n",
    "We can check if an item exits or not in a list using in, it returns a boolean"
   ]
  },
  {
   "cell_type": "code",
   "execution_count": null,
   "metadata": {},
   "outputs": [],
   "source": [
    "# Syntax\n",
    "tpl = ('item1', 'item2', 'item3','item4')\n",
    "'item2' in tpl # True"
   ]
  },
  {
   "cell_type": "code",
   "execution_count": null,
   "metadata": {},
   "outputs": [],
   "source": [
    "fruits = ('banana', 'orange', 'mango', 'lemon')\n",
    "print('orange' in fruits) # True\n",
    "print('apple' in fruits) # False\n",
    "fruits[0] = 'apple' # TypeError: 'tuple' object does not support item assignment"
   ]
  },
  {
   "cell_type": "markdown",
   "metadata": {},
   "source": [
    "## Joining Tuples\n",
    "We can join two or more tuples using + operator"
   ]
  },
  {
   "cell_type": "code",
   "execution_count": null,
   "metadata": {},
   "outputs": [],
   "source": [
    "# syntax\n",
    "tpl1 = ('item1', 'item2', 'item3')\n",
    "tpl2 = ('item4', 'item5','item6')\n",
    "tpl3 = tpl1 + tpl2"
   ]
  },
  {
   "cell_type": "code",
   "execution_count": null,
   "metadata": {},
   "outputs": [],
   "source": [
    "fruits = ('banana', 'orange', 'mango', 'lemon')\n",
    "vegetables = ('Tomato', 'Potato', 'Cabbage','Onion', 'Carrot')\n",
    "fruits_and_vegetables = fruits + vegetables"
   ]
  },
  {
   "cell_type": "markdown",
   "metadata": {},
   "source": [
    "## Deleting Tuples\n",
    "It is not possible to remove a single item in a tuple but it is possible to delete the tuple itself using *del*."
   ]
  },
  {
   "cell_type": "code",
   "execution_count": null,
   "metadata": {},
   "outputs": [],
   "source": [
    "# syntax\n",
    "tpl1 = ('item1', 'item2', 'item3')\n",
    "del tpl1"
   ]
  },
  {
   "cell_type": "code",
   "execution_count": null,
   "metadata": {},
   "outputs": [],
   "source": [
    "fruits = ('banana', 'orange', 'mango', 'lemon')\n",
    "del fruits\n",
    "fruits"
   ]
  }
 ],
 "metadata": {
  "kernelspec": {
   "display_name": "Python 3",
   "language": "python",
   "name": "python3"
  },
  "language_info": {
   "codemirror_mode": {
    "name": "ipython",
    "version": 3
   },
   "file_extension": ".py",
   "mimetype": "text/x-python",
   "name": "python",
   "nbconvert_exporter": "python",
   "pygments_lexer": "ipython3",
   "version": "3.8.3"
  }
 },
 "nbformat": 4,
 "nbformat_minor": 4
}
