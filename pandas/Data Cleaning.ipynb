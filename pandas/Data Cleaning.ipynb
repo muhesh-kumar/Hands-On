{
 "cells": [
  {
   "cell_type": "markdown",
   "metadata": {},
   "source": [
    "# Data Cleaning"
   ]
  },
  {
   "cell_type": "code",
   "execution_count": null,
   "metadata": {},
   "outputs": [],
   "source": [
    "import pandas as pd"
   ]
  },
  {
   "cell_type": "code",
   "execution_count": null,
   "metadata": {},
   "outputs": [],
   "source": [
    "df = pd.read_csv('data.csv')\n",
    "new_df = df.dropna() \n",
    "# dropna() -returns a new DataFrame(by dropping the entries with empty cells\n",
    "# and won't change the original\n",
    "print(new_df.to_string())"
   ]
  },
  {
   "cell_type": "code",
   "execution_count": null,
   "metadata": {},
   "outputs": [],
   "source": [
    "# If you want to change the original DataFrame, use the inplace = True argument\n",
    "\n",
    "df.dropna(inplace = True)\n",
    "print(df.to_string())\n",
    "\n",
    "# the dropna(inplace = True) will NOT return a new DataFrame, but it will remove all rows containg NULL values from the original DataFrame."
   ]
  },
  {
   "cell_type": "code",
   "execution_count": null,
   "metadata": {},
   "outputs": [],
   "source": [
    "df.fillna(130, inplace = True)\n",
    "print(df)"
   ]
  },
  {
   "cell_type": "code",
   "execution_count": null,
   "metadata": {},
   "outputs": [],
   "source": [
    "# Replace Only For a Specified Columns\n",
    "\n",
    "df[\"Calories\"].fillna(130, inplace = True)"
   ]
  },
  {
   "cell_type": "code",
   "execution_count": null,
   "metadata": {},
   "outputs": [],
   "source": [
    "# Replace Using Mean, Median, or Mode\n",
    "\n",
    "x = df[\"Calories\"].mean()\n",
    "df[\"Calories\"].fillna(x, inplace = True)\n",
    "\n",
    "med = df[\"Calories\"].median()\n",
    "df[\"Calories\"].fillna(med, inplace = True)\n",
    "\n",
    "mod = df[\"Calories\"].mode()[0]\n",
    "df[\"Calories\"].fillna(mod, inplace = True)"
   ]
  },
  {
   "cell_type": "markdown",
   "metadata": {},
   "source": [
    "## Cleaning Data of Wrong Format"
   ]
  },
  {
   "cell_type": "code",
   "execution_count": null,
   "metadata": {},
   "outputs": [],
   "source": [
    "df = pd.read_csv(\"dirtydata.csv\")\n",
    "df['Date'] = pd.to_datetime(df['Date'])\n",
    "print(df)"
   ]
  },
  {
   "cell_type": "code",
   "execution_count": null,
   "metadata": {},
   "outputs": [],
   "source": [
    "df.dropna(subset=[\"Date\"], inplace = True)"
   ]
  },
  {
   "cell_type": "markdown",
   "metadata": {},
   "source": [
    "## Fixing Wrong Data"
   ]
  },
  {
   "cell_type": "code",
   "execution_count": null,
   "metadata": {},
   "outputs": [],
   "source": [
    "# For small data sets\n",
    "\n",
    "df.loc[7, 'Duration'] = 45\n",
    "print(df)"
   ]
  },
  {
   "cell_type": "code",
   "execution_count": null,
   "metadata": {},
   "outputs": [],
   "source": [
    "# For larger datasets\n",
    "for i in df.index:\n",
    "    if df.loc[i, \"Duration\"] > 120:\n",
    "        df.loc[i, \"Duration\"] = 120"
   ]
  },
  {
   "cell_type": "code",
   "execution_count": null,
   "metadata": {},
   "outputs": [],
   "source": [
    "# Removing Rows\n",
    "for i in df.index:\n",
    "    if df.loc[i, \"Duration\"] > 120:\n",
    "        df.drop(i, inplace = True)"
   ]
  },
  {
   "cell_type": "markdown",
   "metadata": {},
   "source": [
    "## Removing Duplicates"
   ]
  },
  {
   "cell_type": "code",
   "execution_count": null,
   "metadata": {},
   "outputs": [],
   "source": [
    "# To discover duplicates, we can use the duplicated() method.\n",
    "\n",
    "# The duplicated() method returns a Boolean values for each row:\n",
    "\n",
    "print(df.duplicated())"
   ]
  },
  {
   "cell_type": "code",
   "execution_count": null,
   "metadata": {},
   "outputs": [],
   "source": [
    "# Removing Duplicates\n",
    "# To remove duplicates, use the drop_duplicates() method.\n",
    "\n",
    "df.drop_duplicates(inplace = True)\n",
    "print(df)"
   ]
  }
 ],
 "metadata": {
  "kernelspec": {
   "display_name": "Python 3",
   "language": "python",
   "name": "python3"
  },
  "language_info": {
   "codemirror_mode": {
    "name": "ipython",
    "version": 3
   },
   "file_extension": ".py",
   "mimetype": "text/x-python",
   "name": "python",
   "nbconvert_exporter": "python",
   "pygments_lexer": "ipython3",
   "version": "3.8.3"
  }
 },
 "nbformat": 4,
 "nbformat_minor": 4
}
